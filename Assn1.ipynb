{
 "cells": [
  {
   "cell_type": "raw",
   "metadata": {},
   "source": [
    "1. (35 points) Build a basic spell checker. You may use Python, Javascript, C++ or whatever language you prefer. You are encouraged to work in a team of no more than 3 people. Show code, explain approach, and demo program during discussion for credit.\n",
    "\n",
    "INPUT: a large English corpus, which is a plain text file. For example the full text of Moby Dick is large enough (http://bit.ly/2I61QwO).\n",
    "\n",
    "OUTPUT: the full list of misspelled words with 1 to 3 correct alternatives for each, separated by newlines, colons and commas, as follows:\n",
    "\n",
    "Rubrics: tokenizes appropriately, applies at least one formal method covered in class or textbook (e.g., Levenshtein, regular expression), detects test-case misspellings, suggests decent alternatives, able to handle large file input.\n"
   ]
  },
  {
   "cell_type": "code",
   "execution_count": 2,
   "metadata": {},
   "outputs": [
    {
     "ename": "IndentationError",
     "evalue": "expected an indented block (<ipython-input-2-4c3439b00ba1>, line 28)",
     "output_type": "error",
     "traceback": [
      "\u001b[0;36m  File \u001b[0;32m\"<ipython-input-2-4c3439b00ba1>\"\u001b[0;36m, line \u001b[0;32m28\u001b[0m\n\u001b[0;31m    def main():\u001b[0m\n\u001b[0m      ^\u001b[0m\n\u001b[0;31mIndentationError\u001b[0m\u001b[0;31m:\u001b[0m expected an indented block\n"
     ]
    }
   ],
   "source": [
    "import numpy as np\n",
    "import pandas as pd\n",
    "import urllib.request\n",
    "import urllib\n",
    "import pandas as pd\n",
    "from collections import namedtuple\n",
    "import pandas as pd\n",
    "from nltk.stem import PorterStemmer\n",
    "from nltk.tokenize import sent_tokenize, word_tokenize\n",
    "\n",
    "from bs4  import BeautifulSoup\n",
    "ps = PorterStemmer()\n",
    "from PyDictionary import PyDictionary\n",
    "dictionary=PyDictionary()\n",
    "\n",
    "\n",
    "\n",
    "def driver_spellchecker():\n",
    "    print(\"spell checker\")\n",
    "\n",
    "def spell_checker(text):\n",
    "    misspelled = []\n",
    "    return misspelled\n",
    "\n",
    "def loadfile(path):\n",
    "    spath = path + \".txt\"\n",
    "    files = glob.glob(spath)\n",
    "    return file\n",
    "\n",
    "def lexical_scanner(file):\n",
    "    spath = path + \"/*.txt\"\n",
    "    files = glob.glob(spath)\n",
    "    for line in file:\n",
    "        line_proc(line.strip().split(' '),dict_terms,dict_docs, filename,stopwords)\n",
    "\n",
    "def main():\n",
    "    \n",
    " driver_spellchecker()\n",
    " \n",
    "if __name__ == \"__main__\":\n",
    "    main()     \n",
    "    "
   ]
  },
  {
   "cell_type": "code",
   "execution_count": null,
   "metadata": {},
   "outputs": [],
   "source": []
  },
  {
   "cell_type": "code",
   "execution_count": null,
   "metadata": {},
   "outputs": [],
   "source": []
  }
 ],
 "metadata": {
  "kernelspec": {
   "display_name": "Python 3",
   "language": "python",
   "name": "python3"
  },
  "language_info": {
   "codemirror_mode": {
    "name": "ipython",
    "version": 3
   },
   "file_extension": ".py",
   "mimetype": "text/x-python",
   "name": "python",
   "nbconvert_exporter": "python",
   "pygments_lexer": "ipython3",
   "version": "3.7.1"
  }
 },
 "nbformat": 4,
 "nbformat_minor": 2
}
